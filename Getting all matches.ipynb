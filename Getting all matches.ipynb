{
 "cells": [
  {
   "cell_type": "code",
   "execution_count": 1,
   "metadata": {},
   "outputs": [],
   "source": [
    "from urllib.request import urlopen\n",
    "from urllib.error import HTTPError\n",
    "from bs4 import BeautifulSoup\n",
    "import pandas as pd\n",
    "import numpy as np\n",
    "import json\n",
    "import re\n",
    "import requests"
   ]
  },
  {
   "cell_type": "code",
   "execution_count": 2,
   "metadata": {},
   "outputs": [],
   "source": [
    "def get_match_ids(t):\n",
    "    url=f'https://cricketapi.platform.iplt20.com//fixtures?tournamentIds={t}&pageSize=100'\n",
    "    html = urlopen(url).read()\n",
    "    soup = BeautifulSoup(html,\"html.parser\")\n",
    "    a=soup.get_text().replace('\\n','\\n\\n')\n",
    "    matchids=[x.group() for x in re.finditer( r'matchId\":{\"id\":(.*?),', a)]\n",
    "    ids=[]\n",
    "    for id in matchids:\n",
    "        q=re.findall(r'\\d+', id)\n",
    "        ids.append(q)\n",
    "    flat_list = [item for sublist in ids for item in sublist]\n",
    "    ints=[]\n",
    "    for id in flat_list:\n",
    "        i=int(id)\n",
    "        ints.append(i)\n",
    "    return ints"
   ]
  },
  {
   "cell_type": "code",
   "execution_count": 3,
   "metadata": {},
   "outputs": [],
   "source": [
    "S_2012=get_match_ids(1)\n",
    "S_2013=get_match_ids(605)\n",
    "S_2014=get_match_ids(2374)\n",
    "S_2015=get_match_ids(2785)\n",
    "S_2016=get_match_ids(3957)\n",
    "S_2017=get_match_ids(5815)\n",
    "S_2018=get_match_ids(7749)\n",
    "S_2019=get_match_ids(10192)\n",
    "S_2020=get_match_ids(18790)\n",
    "S_2021=get_match_ids(22399)"
   ]
  },
  {
   "cell_type": "code",
   "execution_count": 9,
   "metadata": {},
   "outputs": [],
   "source": [
    "np.savetxt(\"S_2012.csv\", S_2012, delimiter=\",\", fmt='%s')\n",
    "np.savetxt(\"S_2013.csv\", S_2013, delimiter=\",\", fmt='%s')\n",
    "np.savetxt(\"S_2014.csv\", S_2014, delimiter=\",\", fmt='%s')\n",
    "np.savetxt(\"S_2015.csv\", S_2015, delimiter=\",\", fmt='%s')\n",
    "np.savetxt(\"S_2016.csv\", S_2016, delimiter=\",\", fmt='%s')\n",
    "np.savetxt(\"S_2017.csv\", S_2017, delimiter=\",\", fmt='%s')\n",
    "np.savetxt(\"S_2018.csv\", S_2018, delimiter=\",\", fmt='%s')\n",
    "np.savetxt(\"S_2019.csv\", S_2019, delimiter=\",\", fmt='%s')\n",
    "np.savetxt(\"S_2020.csv\", S_2020, delimiter=\",\", fmt='%s')\n",
    "np.savetxt(\"S_2021.csv\", S_2021, delimiter=\",\", fmt='%s')\n"
   ]
  },
  {
   "cell_type": "code",
   "execution_count": null,
   "metadata": {},
   "outputs": [],
   "source": []
  }
 ],
 "metadata": {
  "kernelspec": {
   "display_name": "Python 3",
   "language": "python",
   "name": "python3"
  },
  "language_info": {
   "codemirror_mode": {
    "name": "ipython",
    "version": 3
   },
   "file_extension": ".py",
   "mimetype": "text/x-python",
   "name": "python",
   "nbconvert_exporter": "python",
   "pygments_lexer": "ipython3",
   "version": "3.8.5"
  }
 },
 "nbformat": 4,
 "nbformat_minor": 4
}
